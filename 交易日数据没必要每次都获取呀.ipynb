{
 "cells": [
  {
   "cell_type": "code",
   "execution_count": 2,
   "metadata": {},
   "outputs": [],
   "source": [
    "import pandas as pd\n",
    "import json\n",
    "import requests\n",
    "import datetime"
   ]
  },
  {
   "cell_type": "code",
   "execution_count": 3,
   "metadata": {},
   "outputs": [],
   "source": [
    "def sjs_calender(month_str):\n",
    "    url='http://www.szse.cn/api/report/exchange/onepersistenthour/monthList?month={}'.format(month_str)\n",
    "    res=requests.get(url)\n",
    "    res_data=json.loads(res.text)['data']\n",
    "    df=pd.DataFrame(res_data).set_index('jyrq')\n",
    "    df.columns=['weekday','trade_day']\n",
    "    return df\n",
    "\n",
    "def get_next_tradeday(date_str:str):\n",
    "    \"\"\"\n",
    "\n",
    "    :param date_str: 传入一个完整的时间字符串如‘2021-02-02’\n",
    "    :return:\n",
    "    \"\"\"\n",
    "    year=int(date_str[0:4])\n",
    "    month=int(date_str[5:7])\n",
    "    if month != 12:\n",
    "        next_month='{}-{}'.format(year,month+1)\n",
    "    else:\n",
    "        next_month='{}-{}'.format(year+1,'01')\n",
    "    df=pd.concat([sjs_calender(date_str[:7]),sjs_calender(next_month)])\n",
    "    after_today = df.loc[date_str:].iloc[1:]\n",
    "    next_trade_day= after_today[after_today['trade_day']=='1'].index[0]\n",
    "    return next_trade_day\n"
   ]
  },
  {
   "cell_type": "code",
   "execution_count": 6,
   "metadata": {},
   "outputs": [
    {
     "data": {
      "text/plain": [
       "'2020-12-02'"
      ]
     },
     "execution_count": 6,
     "metadata": {},
     "output_type": "execute_result"
    }
   ],
   "source": [
    "get_next_tradeday('2020-12-01')"
   ]
  },
  {
   "cell_type": "code",
   "execution_count": 27,
   "metadata": {},
   "outputs": [],
   "source": [
    "def sjs_calender(month_str):\n",
    "    url='http://www.szse.cn/api/report/exchange/onepersistenthour/monthList?month={}'.format(month_str)\n",
    "    res=requests.get(url)\n",
    "    res_data=json.loads(res.text)['data']\n",
    "    df=pd.DataFrame(res_data)\n",
    "    df.columns=['weekday','trade_day','calendar_day']\n",
    "    df.set_index('calendar_day',inplace=True)\n",
    "    return df\n"
   ]
  },
  {
   "cell_type": "code",
   "execution_count": 28,
   "metadata": {},
   "outputs": [
    {
     "data": {
      "text/html": [
       "<div>\n",
       "<style scoped>\n",
       "    .dataframe tbody tr th:only-of-type {\n",
       "        vertical-align: middle;\n",
       "    }\n",
       "\n",
       "    .dataframe tbody tr th {\n",
       "        vertical-align: top;\n",
       "    }\n",
       "\n",
       "    .dataframe thead th {\n",
       "        text-align: right;\n",
       "    }\n",
       "</style>\n",
       "<table border=\"1\" class=\"dataframe\">\n",
       "  <thead>\n",
       "    <tr style=\"text-align: right;\">\n",
       "      <th></th>\n",
       "      <th>weekday</th>\n",
       "      <th>trade_day</th>\n",
       "    </tr>\n",
       "    <tr>\n",
       "      <th>calendar_day</th>\n",
       "      <th></th>\n",
       "      <th></th>\n",
       "    </tr>\n",
       "  </thead>\n",
       "  <tbody>\n",
       "    <tr>\n",
       "      <th>2021-01-01</th>\n",
       "      <td>6</td>\n",
       "      <td>0</td>\n",
       "    </tr>\n",
       "    <tr>\n",
       "      <th>2021-01-02</th>\n",
       "      <td>7</td>\n",
       "      <td>0</td>\n",
       "    </tr>\n",
       "    <tr>\n",
       "      <th>2021-01-03</th>\n",
       "      <td>1</td>\n",
       "      <td>0</td>\n",
       "    </tr>\n",
       "    <tr>\n",
       "      <th>2021-01-04</th>\n",
       "      <td>2</td>\n",
       "      <td>1</td>\n",
       "    </tr>\n",
       "    <tr>\n",
       "      <th>2021-01-05</th>\n",
       "      <td>3</td>\n",
       "      <td>1</td>\n",
       "    </tr>\n",
       "    <tr>\n",
       "      <th>...</th>\n",
       "      <td>...</td>\n",
       "      <td>...</td>\n",
       "    </tr>\n",
       "    <tr>\n",
       "      <th>2021-12-27</th>\n",
       "      <td>2</td>\n",
       "      <td>1</td>\n",
       "    </tr>\n",
       "    <tr>\n",
       "      <th>2021-12-28</th>\n",
       "      <td>3</td>\n",
       "      <td>1</td>\n",
       "    </tr>\n",
       "    <tr>\n",
       "      <th>2021-12-29</th>\n",
       "      <td>4</td>\n",
       "      <td>1</td>\n",
       "    </tr>\n",
       "    <tr>\n",
       "      <th>2021-12-30</th>\n",
       "      <td>5</td>\n",
       "      <td>1</td>\n",
       "    </tr>\n",
       "    <tr>\n",
       "      <th>2021-12-31</th>\n",
       "      <td>6</td>\n",
       "      <td>1</td>\n",
       "    </tr>\n",
       "  </tbody>\n",
       "</table>\n",
       "<p>365 rows × 2 columns</p>\n",
       "</div>"
      ],
      "text/plain": [
       "              weekday trade_day\n",
       "calendar_day                   \n",
       "2021-01-01          6         0\n",
       "2021-01-02          7         0\n",
       "2021-01-03          1         0\n",
       "2021-01-04          2         1\n",
       "2021-01-05          3         1\n",
       "...               ...       ...\n",
       "2021-12-27          2         1\n",
       "2021-12-28          3         1\n",
       "2021-12-29          4         1\n",
       "2021-12-30          5         1\n",
       "2021-12-31          6         1\n",
       "\n",
       "[365 rows x 2 columns]"
      ]
     },
     "execution_count": 28,
     "metadata": {},
     "output_type": "execute_result"
    }
   ],
   "source": [
    "pd.concat([sjs_calender(str(2021)+'-'+str(month).zfill(2)) for month in range(1,13)])\n"
   ]
  },
  {
   "cell_type": "code",
   "execution_count": 30,
   "metadata": {},
   "outputs": [
    {
     "name": "stdout",
     "output_type": "stream",
     "text": [
      "2005\n",
      "2006\n",
      "2007\n",
      "2008\n",
      "2009\n",
      "2010\n",
      "2011\n",
      "2012\n",
      "2013\n",
      "2014\n",
      "2015\n",
      "2016\n",
      "2017\n",
      "2018\n",
      "2019\n",
      "2020\n",
      "2021\n"
     ]
    }
   ],
   "source": [
    "from sqlalchemy import create_engine\n",
    "\n",
    "trade_day_db_path='../my_scheduled_app/'+'交易日.db'\n",
    "engine_trade_day = create_engine(r\"sqlite:///\"+trade_day_db_path)\n",
    "\n",
    "for year in range(2005,2022):\n",
    "    print(year)\n",
    "    year_all=pd.concat([sjs_calender(str(year)+'-'+str(month).zfill(2)) for month in range(1,13)])\n",
    "#     print(year_all)\n",
    "    year_all.to_sql('year'+str(year), engine_trade_day, if_exists=\"replace\")\n",
    "    "
   ]
  },
  {
   "cell_type": "code",
   "execution_count": 83,
   "metadata": {},
   "outputs": [],
   "source": [
    "def sjs_calender_year(year): #深交所\n",
    "    url='http://www.szse.cn/api/report/exchange/onepersistenthour/monthList?month={}-{}'\n",
    "\n",
    "    df_list=[]\n",
    "    for month in range(1,13):\n",
    "        month_url=url.format(year,str(month).zfill(2))\n",
    "        res=requests.get(month_url)\n",
    "        res_data=json.loads(res.text)['data']\n",
    "        df=pd.DataFrame(res_data)\n",
    "        df_list.append(df)\n",
    "    df_year=pd.concat(df_list)\n",
    "    df_year.columns=['weekday','trade_day','calendar_day']\n",
    "    df_year.set_index('calendar_day',inplace=True)\n",
    "\n",
    "    return df_year\n",
    "\n",
    "def get_next_tradeday(date_str:str):\n",
    "    \"\"\"\n",
    "\n",
    "    :param date_str: 传入一个完整的时间字符串如‘2021-02-02’\n",
    "    :return:\n",
    "    \"\"\"\n",
    "    year=int(date_str[0:4])\n",
    "    month=int(date_str[5:7])\n",
    "    if month != 12:\n",
    "        next_month='{}-{}'.format(year,month+1)\n",
    "    else:\n",
    "        next_month='{}-{}'.format(year+1,'01')\n",
    "    df=pd.read_sql('year'+str(year), engine_trade_day,index_col='calendar_day')\n",
    "    after_today = df.loc[date_str:].iloc[1:]\n",
    "    after_today_trade=after_today[after_today['trade_day']=='1']\n",
    "    if after_today_trade.shape[0]==0:\n",
    "        try: # 下一年存在\n",
    "            print('选择下一年')\n",
    "            after_today=pd.read_sql('year'+str(year+1), engine_trade_day,index_col='calendar_day')\n",
    "        except: #下一年不存在，获取\n",
    "            print('获取并选择下一年')\n",
    "            year_all=sjs_calender_year(year+1)\n",
    "            year_all.to_sql('year'+str(year+1), engine_trade_day, if_exists=\"replace\")\n",
    "            after_today=pd.read_sql('year'+str(year+1), engine_trade_day,index_col='calendar_day')\n",
    "        after_today_trade=after_today[after_today['trade_day']=='1']\n",
    "\n",
    "    next_trade_day= after_today_trade.index[0] # 今日后交易日的第一天\n",
    "    return next_trade_day"
   ]
  },
  {
   "cell_type": "code",
   "execution_count": 84,
   "metadata": {},
   "outputs": [],
   "source": [
    "# sjs_calender_year(2021)"
   ]
  },
  {
   "cell_type": "code",
   "execution_count": 85,
   "metadata": {},
   "outputs": [
    {
     "name": "stdout",
     "output_type": "stream",
     "text": [
      "选择下一年\n"
     ]
    },
    {
     "data": {
      "text/plain": [
       "'2021-01-04'"
      ]
     },
     "execution_count": 85,
     "metadata": {},
     "output_type": "execute_result"
    }
   ],
   "source": [
    "get_next_tradeday('2020-12-31')"
   ]
  },
  {
   "cell_type": "code",
   "execution_count": null,
   "metadata": {},
   "outputs": [],
   "source": []
  },
  {
   "cell_type": "code",
   "execution_count": null,
   "metadata": {},
   "outputs": [],
   "source": []
  }
 ],
 "metadata": {
  "kernelspec": {
   "display_name": "Python 3",
   "language": "python",
   "name": "python3"
  },
  "language_info": {
   "codemirror_mode": {
    "name": "ipython",
    "version": 3
   },
   "file_extension": ".py",
   "mimetype": "text/x-python",
   "name": "python",
   "nbconvert_exporter": "python",
   "pygments_lexer": "ipython3",
   "version": "3.7.6"
  }
 },
 "nbformat": 4,
 "nbformat_minor": 4
}

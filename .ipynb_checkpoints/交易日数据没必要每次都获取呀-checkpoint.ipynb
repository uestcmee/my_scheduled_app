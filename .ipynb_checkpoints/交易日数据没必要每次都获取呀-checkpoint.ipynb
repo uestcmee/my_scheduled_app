{
 "cells": [
  {
   "cell_type": "code",
   "execution_count": 2,
   "metadata": {},
   "outputs": [],
   "source": [
    "import pandas as pd\n",
    "import json\n",
    "import requests\n",
    "import datetime"
   ]
  },
  {
   "cell_type": "code",
   "execution_count": 3,
   "metadata": {},
   "outputs": [],
   "source": [
    "def sjs_calender(month_str):\n",
    "    url='http://www.szse.cn/api/report/exchange/onepersistenthour/monthList?month={}'.format(month_str)\n",
    "    res=requests.get(url)\n",
    "    res_data=json.loads(res.text)['data']\n",
    "    df=pd.DataFrame(res_data).set_index('jyrq')\n",
    "    df.columns=['weekday','trade_day']\n",
    "    return df\n",
    "\n",
    "def get_next_tradeday(date_str:str):\n",
    "    \"\"\"\n",
    "\n",
    "    :param date_str: 传入一个完整的时间字符串如‘2021-02-02’\n",
    "    :return:\n",
    "    \"\"\"\n",
    "    year=int(date_str[0:4])\n",
    "    month=int(date_str[5:7])\n",
    "    if month != 12:\n",
    "        next_month='{}-{}'.format(year,month+1)\n",
    "    else:\n",
    "        next_month='{}-{}'.format(year+1,'01')\n",
    "    df=pd.concat([sjs_calender(date_str[:7]),sjs_calender(next_month)])\n",
    "    after_today = df.loc[date_str:].iloc[1:]\n",
    "    next_trade_day= after_today[after_today['trade_day']=='1'].index[0]\n",
    "    return next_trade_day\n"
   ]
  },
  {
   "cell_type": "code",
   "execution_count": 6,
   "metadata": {},
   "outputs": [
    {
     "data": {
      "text/plain": [
       "'2020-12-02'"
      ]
     },
     "execution_count": 6,
     "metadata": {},
     "output_type": "execute_result"
    }
   ],
   "source": [
    "get_next_tradeday('2020-12-01')"
   ]
  },
  {
   "cell_type": "code",
   "execution_count": 20,
   "metadata": {},
   "outputs": [],
   "source": [
    "def sjs_calender(month_str):\n",
    "    url='http://www.szse.cn/api/report/exchange/onepersistenthour/monthList?month={}'.format(month_str)\n",
    "    res=requests.get(url)\n",
    "    res_data=json.loads(res.text)['data']\n",
    "    df=pd.DataFrame(res_data)\n",
    "    df.columns=['weekday','trade_day','calendar_day']\n",
    "    return df\n"
   ]
  },
  {
   "cell_type": "code",
   "execution_count": 21,
   "metadata": {},
   "outputs": [
    {
     "data": {
      "text/html": [
       "<div>\n",
       "<style scoped>\n",
       "    .dataframe tbody tr th:only-of-type {\n",
       "        vertical-align: middle;\n",
       "    }\n",
       "\n",
       "    .dataframe tbody tr th {\n",
       "        vertical-align: top;\n",
       "    }\n",
       "\n",
       "    .dataframe thead th {\n",
       "        text-align: right;\n",
       "    }\n",
       "</style>\n",
       "<table border=\"1\" class=\"dataframe\">\n",
       "  <thead>\n",
       "    <tr style=\"text-align: right;\">\n",
       "      <th></th>\n",
       "      <th>weekday</th>\n",
       "      <th>trade_day</th>\n",
       "      <th>calendar_day</th>\n",
       "    </tr>\n",
       "  </thead>\n",
       "  <tbody>\n",
       "    <tr>\n",
       "      <th>0</th>\n",
       "      <td>6</td>\n",
       "      <td>0</td>\n",
       "      <td>2021-01-01</td>\n",
       "    </tr>\n",
       "    <tr>\n",
       "      <th>1</th>\n",
       "      <td>7</td>\n",
       "      <td>0</td>\n",
       "      <td>2021-01-02</td>\n",
       "    </tr>\n",
       "    <tr>\n",
       "      <th>2</th>\n",
       "      <td>1</td>\n",
       "      <td>0</td>\n",
       "      <td>2021-01-03</td>\n",
       "    </tr>\n",
       "    <tr>\n",
       "      <th>3</th>\n",
       "      <td>2</td>\n",
       "      <td>1</td>\n",
       "      <td>2021-01-04</td>\n",
       "    </tr>\n",
       "    <tr>\n",
       "      <th>4</th>\n",
       "      <td>3</td>\n",
       "      <td>1</td>\n",
       "      <td>2021-01-05</td>\n",
       "    </tr>\n",
       "    <tr>\n",
       "      <th>...</th>\n",
       "      <td>...</td>\n",
       "      <td>...</td>\n",
       "      <td>...</td>\n",
       "    </tr>\n",
       "    <tr>\n",
       "      <th>26</th>\n",
       "      <td>2</td>\n",
       "      <td>1</td>\n",
       "      <td>2021-12-27</td>\n",
       "    </tr>\n",
       "    <tr>\n",
       "      <th>27</th>\n",
       "      <td>3</td>\n",
       "      <td>1</td>\n",
       "      <td>2021-12-28</td>\n",
       "    </tr>\n",
       "    <tr>\n",
       "      <th>28</th>\n",
       "      <td>4</td>\n",
       "      <td>1</td>\n",
       "      <td>2021-12-29</td>\n",
       "    </tr>\n",
       "    <tr>\n",
       "      <th>29</th>\n",
       "      <td>5</td>\n",
       "      <td>1</td>\n",
       "      <td>2021-12-30</td>\n",
       "    </tr>\n",
       "    <tr>\n",
       "      <th>30</th>\n",
       "      <td>6</td>\n",
       "      <td>1</td>\n",
       "      <td>2021-12-31</td>\n",
       "    </tr>\n",
       "  </tbody>\n",
       "</table>\n",
       "<p>365 rows × 3 columns</p>\n",
       "</div>"
      ],
      "text/plain": [
       "    weekday trade_day calendar_day\n",
       "0         6         0   2021-01-01\n",
       "1         7         0   2021-01-02\n",
       "2         1         0   2021-01-03\n",
       "3         2         1   2021-01-04\n",
       "4         3         1   2021-01-05\n",
       "..      ...       ...          ...\n",
       "26        2         1   2021-12-27\n",
       "27        3         1   2021-12-28\n",
       "28        4         1   2021-12-29\n",
       "29        5         1   2021-12-30\n",
       "30        6         1   2021-12-31\n",
       "\n",
       "[365 rows x 3 columns]"
      ]
     },
     "execution_count": 21,
     "metadata": {},
     "output_type": "execute_result"
    }
   ],
   "source": [
    "pd.concat([sjs_calender(str(2021)+'-'+str(month).zfill(2)) for month in range(1,13)])\n"
   ]
  },
  {
   "cell_type": "code",
   "execution_count": 24,
   "metadata": {},
   "outputs": [
    {
     "name": "stdout",
     "output_type": "stream",
     "text": [
      "2005\n",
      "     weekday trade_day calendar_day\n",
      "0          7         0   2005-01-01\n",
      "1          1         0   2005-01-02\n",
      "2          2         0   2005-01-03\n",
      "3          3         1   2005-01-04\n",
      "4          4         1   2005-01-05\n",
      "..       ...       ...          ...\n",
      "360        3         1   2005-12-27\n",
      "361        4         1   2005-12-28\n",
      "362        5         1   2005-12-29\n",
      "363        6         1   2005-12-30\n",
      "364        7         0   2005-12-31\n",
      "\n",
      "[365 rows x 3 columns]\n"
     ]
    }
   ],
   "source": [
    "from sqlalchemy import create_engine\n",
    "\n",
    "trade_day_db_path='../my_scheduled_app/'+'交易日.db'\n",
    "engine_trade_day = create_engine(r\"sqlite:///\"+trade_day_db_path)\n",
    "\n",
    "for year in range(2005,2022):\n",
    "    print(year)\n",
    "    year_all=pd.concat([sjs_calender(str(year)+'-'+str(month).zfill(2)) for month in range(1,13)])\n",
    "    year_all.index=[i for i in range(len(year_all.index))]\n",
    "    print(year_all)\n",
    "    year_all.to_sql('year'str(year), engine_trade_day, if_exists=\"replace\")\n",
    "    break"
   ]
  },
  {
   "cell_type": "code",
   "execution_count": null,
   "metadata": {},
   "outputs": [],
   "source": []
  }
 ],
 "metadata": {
  "kernelspec": {
   "display_name": "Python 3",
   "language": "python",
   "name": "python3"
  },
  "language_info": {
   "codemirror_mode": {
    "name": "ipython",
    "version": 3
   },
   "file_extension": ".py",
   "mimetype": "text/x-python",
   "name": "python",
   "nbconvert_exporter": "python",
   "pygments_lexer": "ipython3",
   "version": "3.7.6"
  }
 },
 "nbformat": 4,
 "nbformat_minor": 4
}
